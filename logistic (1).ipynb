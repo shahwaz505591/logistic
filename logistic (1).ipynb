{
 "cells": [
  {
   "cell_type": "markdown",
   "id": "7a202b3c-9149-49ac-9291-9dbdefad6544",
   "metadata": {},
   "source": [
    "\n",
    "Q1. Difference Between Linear Regression and Logistic Regression:\n",
    "Linear Regression:\n",
    "\n",
    "Used for predicting a continuous dependent variable.\n",
    "The output is a continuous range of values.\n",
    "The relationship between the independent and dependent variables is modeled as a straight line.\n",
    "Example: Predicting house prices based on features like size, number of bedrooms, etc.\n",
    "Logistic Regression:\n",
    "\n",
    "Used for predicting the probability of an event occurring (binary outcome).\n",
    "The output is a probability score between 0 and 1.\n",
    "The relationship is modeled using the logistic function.\n",
    "Example: Predicting whether a student will pass or fail an exam based on study hours.\n",
    "Scenario for Logistic Regression:\n",
    "\n",
    "Logistic regression is more appropriate when dealing with binary or categorical outcomes, such as yes/no, pass/fail, spam/not spam, etc."
   ]
  },
  {
   "cell_type": "code",
   "execution_count": null,
   "id": "0b79e2f8-31ac-4347-9fa0-22349ec9edae",
   "metadata": {},
   "outputs": [],
   "source": [
    "Q2. Cost Function in Logistic Regression and Optimization:\n",
    "Cost Function:\n",
    "\n",
    "Logistic regession uses the logistic loss (or cross-entropy loss) as its cost function.\n",
    "The formula is \n",
    "​\n",
    " ∑ \n",
    "i=1\n",
    "m\n",
    "​\n",
    " [y \n",
    "(i)\n",
    " log(h \n",
    "θ\n",
    "(x(i)))+(1−y i))log(1−hθ(x(i)))], where hθ\n",
    "\n",
    " (x) is the logistic function.\n",
    "Optimization\n",
    "\n",
    "Optimization is typically done using gradient descent or other optimization algorithms.\n",
    "The goal is to minimize the cost function by adjusting the model parameters (\n",
    "�\n",
    "θ)."
   ]
  }
 ],
 "metadata": {
  "kernelspec": {
   "display_name": "Python 3 (ipykernel)",
   "language": "python",
   "name": "python3"
  },
  "language_info": {
   "codemirror_mode": {
    "name": "ipython",
    "version": 3
   },
   "file_extension": ".py",
   "mimetype": "text/x-python",
   "name": "python",
   "nbconvert_exporter": "python",
   "pygments_lexer": "ipython3",
   "version": "3.10.8"
  }
 },
 "nbformat": 4,
 "nbformat_minor": 5
}
